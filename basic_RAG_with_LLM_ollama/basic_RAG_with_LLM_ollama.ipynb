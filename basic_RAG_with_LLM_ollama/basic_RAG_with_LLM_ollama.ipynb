{
 "cells": [
  {
   "cell_type": "code",
   "execution_count": 16,
   "id": "c5954f51-9d66-417e-b7ba-3ccd79f4e94f",
   "metadata": {},
   "outputs": [],
   "source": [
    "# Provide a corpus of documents.\n",
    "corpus_of_documents = [\n",
    "    \"carbon/react Github link: https://github.com/carbon-design-system/carbon/tree/main/packages/react\",\n",
    "    \"To install @carbon/react in your project, you will need to run the following command using npm: npm install -S @carbon/react\",\n",
    "    \"The package @carbon/react requires Dart Sass in order to compile styles.\",\n",
    "    \"If you're new to Sass, we recommend checking out the following resources and links: Sass Basics (https://sass-lang.com/guide), The Sass @use documentation for Sass modules (https://sass-lang.com/documentation/at-rules/use/), The Carbon Design System FAQ on Sass (https://carbondesignsystem.com/migrating/faq/#sass-and-package-management)\",\n",
    "    \"The @carbon/react package provides components and icons for the Carbon Design System.\",\n",
    "    \"To use a component, you can import it directly from the package.\",\n",
    "    \"To include the styles for a specific component, you can either import all the styles from the project or include the styles for a specific component.\",\n",
    "]"
   ]
  },
  {
   "cell_type": "code",
   "execution_count": 17,
   "id": "3b099c47-5376-4f77-a389-9b30ddfbcb2c",
   "metadata": {},
   "outputs": [],
   "source": [
    "# Define a function to measure similarity between a user input and the collection of documents.\n",
    "# Here jaccard similarity is selected for similarity measure in order to compare a user inpt with the source documents.\n",
    "# jaccard Similarity is the ratio of the number of words common to all documents by the total number of words.\n",
    "def jaccard_similarity(query, document):\n",
    "    query = query.lower().split(\" \")\n",
    "    document = document.lower().split(\" \")\n",
    "    intersection = set(query).intersection(set(document))\n",
    "    union = set(query).union(set(document))\n",
    "    return len(intersection)/len(union)"
   ]
  },
  {
   "cell_type": "code",
   "execution_count": 18,
   "id": "de5ced04-9d37-44db-af7f-be651375dbd3",
   "metadata": {},
   "outputs": [],
   "source": [
    "# Define a function to takes a query and source documents and selects the best matched information and return to the user\n",
    "def return_response(query, corpus):\n",
    "    similarities = []\n",
    "    for doc in corpus:\n",
    "        similarity = jaccard_similarity(user_input, doc)\n",
    "        similarities.append(similarity)\n",
    "    return corpus_of_documents[similarities.index(max(similarities))]"
   ]
  },
  {
   "cell_type": "code",
   "execution_count": 26,
   "id": "f2b4b516-cab9-41b1-b3b1-938778061b78",
   "metadata": {},
   "outputs": [],
   "source": [
    "import requests\n",
    "import json"
   ]
  },
  {
   "cell_type": "code",
   "execution_count": 27,
   "id": "bec39ee7-9958-4406-b3f1-e7eea5a73e12",
   "metadata": {},
   "outputs": [],
   "source": [
    "user_input = \"I am looking for the link of carbon/react Github repository.\"\n",
    "relevant_document = return_response(user_input, corpus_of_documents)\n",
    "full_response = []"
   ]
  },
  {
   "cell_type": "code",
   "execution_count": 28,
   "id": "533bce8b-29df-46f2-8e06-b451b8221101",
   "metadata": {},
   "outputs": [],
   "source": [
    "prompt = \"\"\"\n",
    "You are a bot that provides correct information to a query. You answer in very short sentences and do not include extra information.\n",
    "This is the relevant information: {relevant_document}\n",
    "The user input is: {user_input}\n",
    "Compile a answer to the user based on the relevant information and the user input.\n",
    "\"\"\""
   ]
  },
  {
   "cell_type": "code",
   "execution_count": 29,
   "id": "c4a05157-8cbe-42a9-aff2-948dc5754df0",
   "metadata": {},
   "outputs": [],
   "source": [
    "url = 'http://localhost:11434/api/generate'\n",
    "data = {\n",
    "    \"model\": \"llama2\",\n",
    "    \"prompt\": prompt.format(user_input=user_input, relevant_document=relevant_document)\n",
    "}"
   ]
  },
  {
   "cell_type": "code",
   "execution_count": 30,
   "id": "ae7fb736-ecbc-4f88-bf30-2f7904dcb345",
   "metadata": {},
   "outputs": [
    {
     "name": "stdout",
     "output_type": "stream",
     "text": [
      "Sure! Here is the answer to your user query:\n",
      "\n",
      "The carbon/react Github repository link is <https://github.com/carbon-design-system/carbon/tree/main/packages/react>.\n"
     ]
    }
   ],
   "source": [
    "headers = {'Content-Type': 'application/json'}\n",
    "response = requests.post(url, data=json.dumps(data), headers=headers, stream=True)\n",
    "try:\n",
    "    count = 0\n",
    "    for line in response.iter_lines():\n",
    "        # filter out keep-alive new lines\n",
    "        # count += 1\n",
    "        # if count % 5== 0:\n",
    "        #     print(decoded_line['response']) # print every fifth token\n",
    "        if line:\n",
    "            decoded_line = json.loads(line.decode('utf-8'))\n",
    "            full_response.append(decoded_line['response'])\n",
    "finally:\n",
    "    response.close()\n",
    "print(''.join(full_response))"
   ]
  },
  {
   "cell_type": "code",
   "execution_count": 31,
   "id": "2b4a3762-e579-4ed3-be58-bb3d6b34288a",
   "metadata": {},
   "outputs": [],
   "source": [
    "user_input = \"I am not looking for the link of carbon/react Github repository.\"\n",
    "relevant_document = return_response(user_input, corpus_of_documents)\n",
    "full_response = []"
   ]
  },
  {
   "cell_type": "code",
   "execution_count": 32,
   "id": "ef09ef8d-eb60-4940-ad22-19c448222fcf",
   "metadata": {},
   "outputs": [
    {
     "name": "stdout",
     "output_type": "stream",
     "text": [
      "Sure! Here's the answer:\n",
      "The Carbon/React Github repository link is <https://github.com/carbon-design-system/carbon/tree/main/packages/react>.\n"
     ]
    }
   ],
   "source": [
    "headers = {'Content-Type': 'application/json'}\n",
    "response = requests.post(url, data=json.dumps(data), headers=headers, stream=True)\n",
    "try:\n",
    "    count = 0\n",
    "    for line in response.iter_lines():\n",
    "        # filter out keep-alive new lines\n",
    "        # count += 1\n",
    "        # if count % 5== 0:\n",
    "        #     print(decoded_line['response']) # print every fifth token\n",
    "        if line:\n",
    "            decoded_line = json.loads(line.decode('utf-8'))\n",
    "            full_response.append(decoded_line['response'])\n",
    "finally:\n",
    "    response.close()\n",
    "print(''.join(full_response))"
   ]
  },
  {
   "cell_type": "code",
   "execution_count": null,
   "id": "32683e1d-f838-4729-8539-227c18a2d72d",
   "metadata": {},
   "outputs": [],
   "source": []
  }
 ],
 "metadata": {
  "kernelspec": {
   "display_name": "Python 3 (ipykernel)",
   "language": "python",
   "name": "python3"
  },
  "language_info": {
   "codemirror_mode": {
    "name": "ipython",
    "version": 3
   },
   "file_extension": ".py",
   "mimetype": "text/x-python",
   "name": "python",
   "nbconvert_exporter": "python",
   "pygments_lexer": "ipython3",
   "version": "3.10.12"
  }
 },
 "nbformat": 4,
 "nbformat_minor": 5
}
