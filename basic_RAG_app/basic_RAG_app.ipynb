{
 "cells": [
  {
   "cell_type": "code",
   "execution_count": 1,
   "id": "fce66ff4-3a84-4073-9079-d27719f4a9fd",
   "metadata": {},
   "outputs": [],
   "source": [
    "# Provide a corpus of documents.\n",
    "corpus_of_documents = [\n",
    "    \"carbon/react Github link: https://github.com/carbon-design-system/carbon/tree/main/packages/react\",\n",
    "    \"To install @carbon/react in your project, you will need to run the following command using npm: npm install -S @carbon/react\",\n",
    "    \"The package @carbon/react requires Dart Sass in order to compile styles.\",\n",
    "    \"If you're new to Sass, we recommend checking out the following resources and links: Sass Basics (https://sass-lang.com/guide), The Sass @use documentation for Sass modules (https://sass-lang.com/documentation/at-rules/use/), The Carbon Design System FAQ on Sass (https://carbondesignsystem.com/migrating/faq/#sass-and-package-management)\",\n",
    "    \"The @carbon/react package provides components and icons for the Carbon Design System.\",\n",
    "    \"To use a component, you can import it directly from the package.\",\n",
    "    \"To include the styles for a specific component, you can either import all the styles from the project or include the styles for a specific component.\",\n",
    "]\n",
    "\n",
    "# Define a function to measure similarity between a user input and the collection of documents.\n",
    "# Here jaccard similarity is selected for similarity measure in order to compare a user inpt with the source documents.\n",
    "# jaccard Similarity is the ratio of the number of words common to all documents by the total number of words.\n",
    "def jaccard_similarity(query, document):\n",
    "    query = query.lower().split(\" \")\n",
    "    document = document.lower().split(\" \")\n",
    "    intersection = set(query).intersection(set(document))\n",
    "    union = set(query).union(set(document))\n",
    "    return len(intersection)/len(union)"
   ]
  },
  {
   "cell_type": "code",
   "execution_count": 2,
   "id": "f4beea7a-4674-4554-ac8d-fbc6238c249c",
   "metadata": {},
   "outputs": [],
   "source": [
    "# Define a function to takes a query and source documents and selects the best matched information and return to the user\n",
    "def return_response(query, corpus):\n",
    "    similarities = []\n",
    "    for doc in corpus:\n",
    "        similarity = jaccard_similarity(user_input, doc)\n",
    "        similarities.append(similarity)\n",
    "    return corpus_of_documents[similarities.index(max(similarities))]"
   ]
  },
  {
   "cell_type": "code",
   "execution_count": 3,
   "id": "495c1a23-d3bd-4c70-9c66-7821cbdba336",
   "metadata": {},
   "outputs": [],
   "source": [
    "user_input = \"I am looking for the link of carbon/react Github repository.\""
   ]
  },
  {
   "cell_type": "code",
   "execution_count": 4,
   "id": "9b06273f-16b3-4a25-89fa-aa431d67e069",
   "metadata": {},
   "outputs": [
    {
     "data": {
      "text/plain": [
       "'carbon/react Github link: https://github.com/carbon-design-system/carbon/tree/main/packages/react'"
      ]
     },
     "execution_count": 4,
     "metadata": {},
     "output_type": "execute_result"
    }
   ],
   "source": [
    "return_response(user_input, corpus_of_documents)"
   ]
  },
  {
   "cell_type": "code",
   "execution_count": 5,
   "id": "9ea89c74-9066-45d4-95ce-b0846bbb8c35",
   "metadata": {},
   "outputs": [],
   "source": [
    "user_input = \"How to install carbon/react?\""
   ]
  },
  {
   "cell_type": "code",
   "execution_count": 6,
   "id": "165e6e40-9384-435f-be2b-3d18c7958140",
   "metadata": {},
   "outputs": [
    {
     "data": {
      "text/plain": [
       "'To install @carbon/react in your project, you will need to run the following command using npm: npm install -S @carbon/react'"
      ]
     },
     "execution_count": 6,
     "metadata": {},
     "output_type": "execute_result"
    }
   ],
   "source": [
    "return_response(user_input, corpus_of_documents)"
   ]
  },
  {
   "cell_type": "code",
   "execution_count": 7,
   "id": "53388343-788e-4dd3-9b0b-974b43a6523d",
   "metadata": {},
   "outputs": [],
   "source": [
    "user_input = \"How to compile style using Carbon/react?\""
   ]
  },
  {
   "cell_type": "code",
   "execution_count": 8,
   "id": "a7d681c9-48f3-44d1-b48d-5b4c8800898e",
   "metadata": {},
   "outputs": [
    {
     "data": {
      "text/plain": [
       "'The package @carbon/react requires Dart Sass in order to compile styles.'"
      ]
     },
     "execution_count": 8,
     "metadata": {},
     "output_type": "execute_result"
    }
   ],
   "source": [
    "return_response(user_input, corpus_of_documents)"
   ]
  },
  {
   "cell_type": "code",
   "execution_count": 9,
   "id": "6dd4cc1a-9dfc-4a5b-a83e-6051d93e772c",
   "metadata": {},
   "outputs": [],
   "source": [
    "user_input = \"I am not looking for the link of carbon/react Github repository.\""
   ]
  },
  {
   "cell_type": "code",
   "execution_count": 10,
   "id": "7631e138-b629-4646-b06f-3508197835d2",
   "metadata": {},
   "outputs": [
    {
     "data": {
      "text/plain": [
       "'carbon/react Github link: https://github.com/carbon-design-system/carbon/tree/main/packages/react'"
      ]
     },
     "execution_count": 10,
     "metadata": {},
     "output_type": "execute_result"
    }
   ],
   "source": [
    "return_response(user_input, corpus_of_documents)"
   ]
  },
  {
   "cell_type": "code",
   "execution_count": null,
   "id": "a923c3aa-679a-4c74-9546-1a5c30a09b88",
   "metadata": {},
   "outputs": [],
   "source": []
  }
 ],
 "metadata": {
  "kernelspec": {
   "display_name": "Python 3 (ipykernel)",
   "language": "python",
   "name": "python3"
  },
  "language_info": {
   "codemirror_mode": {
    "name": "ipython",
    "version": 3
   },
   "file_extension": ".py",
   "mimetype": "text/x-python",
   "name": "python",
   "nbconvert_exporter": "python",
   "pygments_lexer": "ipython3",
   "version": "3.10.12"
  }
 },
 "nbformat": 4,
 "nbformat_minor": 5
}
